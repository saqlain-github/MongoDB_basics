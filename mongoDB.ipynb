{
 "cells": [
  {
   "cell_type": "markdown",
   "metadata": {},
   "source": [
    "## NoSQL DBs (Not Only Structured Query Language)\n",
    "\n",
    "NoSQL databases (aka \"not only SQL\") are non-tabular databases and store data differently than relational tables. NoSQL databases come in a variety of types based on their data model. The main types are document, key-value, wide-column, and graph. They provide flexible schemas and scale easily with large amounts of data and high user loads."
   ]
  },
  {
   "cell_type": "markdown",
   "metadata": {},
   "source": [
    "## Difference between two most popular SQL and NoSQL Dbs-\n",
    "\n",
    "|MySQL|MongoDB|\n",
    "|:-:|:-:|\n",
    "|Matured or stable|Its new and updated frequently|\n",
    "|It follows tabular structure|It follows document structure like JSON format|\n",
    "|It needs a proper schema| Its flexible in nature|\n",
    "|Managing complex relations among different tables is easy|Its not that great in complex managing relationship|\n",
    "|Its scales vertically| Horizontaly scalable|"
   ]
  },
  {
   "cell_type": "markdown",
   "metadata": {},
   "source": [
    "## Working with MongoDB\n",
    "\n",
    "MongoDB is a source-available cross-platform document-oriented database program. Classified as a NoSQL database program, MongoDB uses JSON-like documents with optional schemas. "
   ]
  },
  {
   "cell_type": "markdown",
   "metadata": {},
   "source": [
    "### Features of MongoDB\n"
   ]
  },
  {
   "cell_type": "markdown",
   "metadata": {},
   "source": [
    "\n",
    "**i. Rich JSON Documents-**\n",
    "\n",
    "* The most natural and productive way to work with data.\n",
    "* Supports arrays and nested objects as values.\n",
    "* Allows for flexible and dynamic schemas.\n",
    "* The document model maps to the objects in your application code, making data easy to work with.\n",
    "\n",
    "```JSON\n",
    "{\n",
    " \"name\": \"notebook\",\n",
    " \"qty\": 50,\n",
    " \"rating\": [ { \"score\": 8 }, { \"score\": 9 } ],\n",
    " \"size\": { \"height\": 11, \"width\": 8.5, \"unit\": \"in\" },\n",
    " \"status\": \"A\",\n",
    " \"tags\": [ \"college-ruled\", \"perforated\"]\n",
    "}\n",
    "```\n",
    "\n",
    "**ii. Powerful query language-**\n",
    "* Rich and expressive query language that allows you to filter and sort by any field, no matter how nested it may be within a document.\n",
    "* Support for aggregations and other modern use-cases such as geo-based search,  graph search, and text search.\n",
    "* Queries are themselves JSON, and thus easily composable. No more concatenating strings to dynamically generate SQL queries.\n",
    "```\n",
    "> db.collection.find( { qty: { $gt: 4 } } )\n",
    "```\n",
    "OUTPUT:\n",
    "```JSON\n",
    "{ \"_id\": \"apples\", \"qty\": 5 }\n",
    "{ \"_id\": \"bananas\", \"qty\": 7 }\n",
    "```"
   ]
  },
  {
   "cell_type": "markdown",
   "metadata": {},
   "source": [
    "**iii. power of a relational database, and more...**\n",
    "\n",
    "* Full ACID(Atomicity, Consistency, Isolation, Durability) transactions.\n",
    "* Support for joins in queries.\n",
    "* Two types of relationships instead of one: reference and embedded.\n"
   ]
  },
  {
   "cell_type": "markdown",
   "metadata": {},
   "source": [
    "**iv. Charts**\n",
    "\n",
    "* The fastest way to create visualizations of MongoDB data.\n",
    "* Built for the document model.\n",
    "* Visualize live data from any of your MongoDB instances. Available on MongoDB Atlas.\n"
   ]
  },
  {
   "cell_type": "markdown",
   "metadata": {},
   "source": [
    "**v. BI Connector**\n",
    "* Allow any BI tool that can speak the MySQL protocol to work with your MongoDB data.\n",
    "* Leverage the BI tools your organization already uses.\n",
    "* Perform federated analytics, combining data from MongoDB and other databases."
   ]
  },
  {
   "cell_type": "markdown",
   "metadata": {},
   "source": [
    "### MongoDBAtlas(Online, Cloud) vs MongoDB Compass(Offline)"
   ]
  },
  {
   "cell_type": "markdown",
   "metadata": {},
   "source": [
    "\n",
    " - MongoDB Atlas belongs to \"MongoDB Hosting\" category of the tech stack, while MongoDB Compass can be primarily classified under \"Database Tools\".\n",
    " - MongoDB Atlas is a global cloud database service built and run by the team behind MongoDB. Enjoy the flexibility and scalability of a document database, with the ease and automation of a fully managed service on your preferred cloud.\n",
    "* Atlas is a mongoDB service on cloud. It uses AWS, Azure and GCP cloud services to cater developers all around the globe for managing mongoDB databases.\n",
    "* Its a globally available cloud database service for all kinds of modern applications.\n",
    "* Visit [ATLAS HOMEPAGE](https://www.mongodb.com/cloud/atlas) for more details.\n"
   ]
  },
  {
   "cell_type": "markdown",
   "metadata": {},
   "source": [
    "### Installing MongoDB (Community Edition)\n",
    "\n",
    "    - Link to Download MongoDB - [[Download Link](https://www.mongodb.com/try/download/community2)]\n",
    "    - Offical Documentation to Install - [[Official Documents](https://docs.mongodb.com/manual/administration/install-community/)]\n"
   ]
  },
  {
   "cell_type": "markdown",
   "metadata": {},
   "source": [
    "### Installing MongoDB Python package\n",
    "\n",
    "```\n",
    "    !python -m pip install pymongo\n",
    "```\n"
   ]
  },
  {
   "cell_type": "markdown",
   "metadata": {},
   "source": [
    "## Working in MongoDB - CRUD(CREATE, READ, UPDATE and DELETE.)"
   ]
  },
  {
   "cell_type": "markdown",
   "metadata": {},
   "source": [
    "### Establish connection"
   ]
  },
  {
   "cell_type": "code",
   "execution_count": 29,
   "metadata": {},
   "outputs": [
    {
     "data": {
      "text/plain": [
       "MongoClient(host=['localhost:27017'], document_class=dict, tz_aware=False, connect=True)"
      ]
     },
     "execution_count": 29,
     "metadata": {},
     "output_type": "execute_result"
    }
   ],
   "source": [
    "import pymongo\n",
    "client = pymongo.MongoClient(\"mongodb://localhost:27017/\")\n",
    "client"
   ]
  },
  {
   "cell_type": "markdown",
   "metadata": {},
   "source": [
    "### Creating Database"
   ]
  },
  {
   "cell_type": "code",
   "execution_count": 30,
   "metadata": {},
   "outputs": [],
   "source": [
    "DEFAULT_CONNECTION_URL = \"mongodb://localhost:27017/\"\n",
    "DB_NAME = \"database_demo\"\n",
    "\n",
    "# Establish a connection with mongoDB\n",
    "client = pymongo.MongoClient(DEFAULT_CONNECTION_URL)\n",
    "\n",
    "# Create a DB\n",
    "dataBase = client[DB_NAME]"
   ]
  },
  {
   "cell_type": "code",
   "execution_count": 31,
   "metadata": {},
   "outputs": [
    {
     "data": {
      "text/plain": [
       "['admin', 'config', 'database_demo', 'local']"
      ]
     },
     "execution_count": 31,
     "metadata": {},
     "output_type": "execute_result"
    }
   ],
   "source": [
    "client.list_database_names()"
   ]
  },
  {
   "cell_type": "markdown",
   "metadata": {},
   "source": [
    "> ![database](practical_images\\creating_db.jpg)"
   ]
  },
  {
   "cell_type": "markdown",
   "metadata": {},
   "source": [
    "### Adding Collection - Create\n",
    "\n",
    "Database doesnt appear until first collection is added"
   ]
  },
  {
   "cell_type": "code",
   "execution_count": 32,
   "metadata": {},
   "outputs": [
    {
     "data": {
      "text/plain": [
       "Collection(Database(MongoClient(host=['localhost:27017'], document_class=dict, tz_aware=False, connect=True), 'database_demo'), 'empployee_details')"
      ]
     },
     "execution_count": 32,
     "metadata": {},
     "output_type": "execute_result"
    }
   ],
   "source": [
    "collection = dataBase[\"empployee_details\"]\n",
    "collection"
   ]
  },
  {
   "cell_type": "code",
   "execution_count": 33,
   "metadata": {},
   "outputs": [
    {
     "data": {
      "text/plain": [
       "<pymongo.results.InsertOneResult at 0x2b4af454040>"
      ]
     },
     "execution_count": 33,
     "metadata": {},
     "output_type": "execute_result"
    }
   ],
   "source": [
    "record = {'companyName': 'valuelabs',\n",
    "         'name' : [\"Syed\",\"saqlain\",123],\n",
    "         \"record_dict\" :{\"name\" :\"saqlain\" , \"mail_id\" : \"saqlain@fadfsaf.ai\",\"ph_number\" :543535},\n",
    "         \"designation\"  : \"datascientist\"\n",
    "         }\n",
    "\n",
    "collection.insert_one(record)"
   ]
  },
  {
   "cell_type": "code",
   "execution_count": 34,
   "metadata": {},
   "outputs": [
    {
     "data": {
      "text/plain": [
       "<pymongo.results.InsertOneResult at 0x2b4af457d30>"
      ]
     },
     "execution_count": 34,
     "metadata": {},
     "output_type": "execute_result"
    }
   ],
   "source": [
    "record = {'companyName': 'amazon',\n",
    "         'name' : [\"zaid\",\"ahmed\",234],\n",
    "         \"record_dict\" :{\"name\" :\"sabir\" , \"mail_id\" : \"saqlain@fadfsaf.ai\",\"ph_number\" :543545},\n",
    "         \"designation\"  : \"software engineer\"\n",
    "         }\n",
    "\n",
    "collection.insert_one(record)"
   ]
  },
  {
   "cell_type": "code",
   "execution_count": 35,
   "metadata": {},
   "outputs": [],
   "source": [
    "list_of_records = [\n",
    "    {'companyName': 'qualcomm',\n",
    "      \"name\" : \"ramesh\",\n",
    "    \"designation\"  : \"tester\"\n",
    "         },\n",
    "    \n",
    "    {'companyName': 'iNeuron',\n",
    "     'product': 'Affordable AI',\n",
    "     'courseOffered': 'Deep Learning for NLP and Computer vision'},\n",
    "    \n",
    "    {'companyName': 'udemy',\n",
    "     'product': 'Master Program',\n",
    "     'courseOffered': 'Data Science Masters Program',\n",
    "    \"test\" : \"ffsdfsffsf\",\n",
    "     \"complex\" : [{\"name\" : \"sudhanshu\",\"list\" : [554,545,454,54,5,4]},{\"email_id\" :\"sudhanshu@dffsf\"},{\"phone_no\":345345345353},[4,54,534,5,45,5,45,4]]\n",
    "\n",
    "    }]\n",
    "    \n",
    "rec = collection.insert_many(list_of_records)"
   ]
  },
  {
   "cell_type": "markdown",
   "metadata": {},
   "source": [
    "> ![inserting records](practical_images\\creating_collection.jpg)"
   ]
  },
  {
   "cell_type": "code",
   "execution_count": 36,
   "metadata": {},
   "outputs": [
    {
     "name": "stdout",
     "output_type": "stream",
     "text": [
      "0. 634a48ddd71f27b617c5f30d\n",
      "1. 634a48ddd71f27b617c5f30e\n",
      "2. 634a48ddd71f27b617c5f30f\n"
     ]
    }
   ],
   "source": [
    "# each record is assigned a unique_ids\n",
    "inserted_IDs = rec.inserted_ids\n",
    "\n",
    "for idx, unique_ids in enumerate(inserted_IDs):\n",
    "    print(f\"{idx}. {unique_ids}\")"
   ]
  },
  {
   "cell_type": "markdown",
   "metadata": {},
   "source": [
    "### Getting Records - Read"
   ]
  },
  {
   "cell_type": "code",
   "execution_count": 51,
   "metadata": {},
   "outputs": [
    {
     "name": "stdout",
     "output_type": "stream",
     "text": [
      "The first record of collection: empployee_details is=\n",
      " {'_id': ObjectId('634a47ced71f27b617c5f301'), 'companyName': 'valuelabs', 'name': ['Syed', 'saqlain', 123], 'record_dict': {'name': 'saqlain', 'mail_id': 'saqlain@fadfsaf.ai', 'ph_number': 543535}, 'designation': 'datascientist'}\n"
     ]
    }
   ],
   "source": [
    "find_first_record = collection.find_one()\n",
    "\n",
    "print(f\"The first record of collection: {collection.name} is=\\\n",
    "\\n {find_first_record}\")"
   ]
  },
  {
   "cell_type": "code",
   "execution_count": 52,
   "metadata": {},
   "outputs": [
    {
     "data": {
      "text/plain": [
       "{'_id': ObjectId('634a47ced71f27b617c5f301'),\n",
       " 'companyName': 'valuelabs',\n",
       " 'name': ['Syed', 'saqlain', 123],\n",
       " 'record_dict': {'name': 'saqlain',\n",
       "  'mail_id': 'saqlain@fadfsaf.ai',\n",
       "  'ph_number': 543535},\n",
       " 'designation': 'datascientist'}"
      ]
     },
     "execution_count": 52,
     "metadata": {},
     "output_type": "execute_result"
    }
   ],
   "source": [
    "collection.find_one()"
   ]
  },
  {
   "cell_type": "code",
   "execution_count": 53,
   "metadata": {},
   "outputs": [
    {
     "name": "stdout",
     "output_type": "stream",
     "text": [
      "{'_id': ObjectId('634a47ced71f27b617c5f301'), 'companyName': 'valuelabs', 'name': ['Syed', 'saqlain', 123], 'record_dict': {'name': 'saqlain', 'mail_id': 'saqlain@fadfsaf.ai', 'ph_number': 543535}, 'designation': 'datascientist'}\n",
      "{'_id': ObjectId('634a47ced71f27b617c5f302'), 'companyName': 'amazon', 'name': ['zaid', 'ahmed', 234], 'record_dict': {'name': 'zaid', 'mail_id': 'saqlain@fadfsaf.ai', 'ph_number': 543545}, 'designation': 'software engineer'}\n",
      "{'_id': ObjectId('634a47ddd71f27b617c5f303'), 'companyName': 'qualcomm', 'name': 'ramesh', 'designation': 'tester'}\n",
      "{'_id': ObjectId('634a47ddd71f27b617c5f304'), 'companyName': 'iNeuron', 'product': 'Affordable AI', 'courseOffered': 'Deep Learning for NLP and Computer vision'}\n",
      "{'_id': ObjectId('634a47ddd71f27b617c5f305'), 'companyName': 'udemy', 'product': 'Master Program', 'courseOffered': 'Data Science Masters Program', 'test': 'ffsdfsffsf', 'complex': [{'name': 'sudhanshu', 'list': [554, 545, 454, 54, 5, 4]}, {'email_id': 'sudhanshu@dffsf'}, {'phone_no': 345345345353}, [4, 54, 534, 5, 45, 5, 45, 4]]}\n"
     ]
    }
   ],
   "source": [
    "for i in collection.find():\n",
    "    print(i)"
   ]
  },
  {
   "cell_type": "markdown",
   "metadata": {},
   "source": [
    "#### Query or filter out data in MongoDB"
   ]
  },
  {
   "cell_type": "code",
   "execution_count": 54,
   "metadata": {},
   "outputs": [
    {
     "name": "stdout",
     "output_type": "stream",
     "text": [
      "{'_id': ObjectId('634a47ced71f27b617c5f301'), 'companyName': 'valuelabs', 'name': ['Syed', 'saqlain', 123], 'record_dict': {'name': 'saqlain', 'mail_id': 'saqlain@fadfsaf.ai', 'ph_number': 543535}, 'designation': 'datascientist'}\n"
     ]
    }
   ],
   "source": [
    "for i in collection.find({'companyName':\"valuelabs\"}):\n",
    "    print(i)"
   ]
  },
  {
   "cell_type": "code",
   "execution_count": 55,
   "metadata": {},
   "outputs": [
    {
     "name": "stdout",
     "output_type": "stream",
     "text": [
      "{'_id': ObjectId('634a47ced71f27b617c5f301'), 'companyName': 'valuelabs', 'name': ['Syed', 'saqlain', 123], 'record_dict': {'name': 'saqlain', 'mail_id': 'saqlain@fadfsaf.ai', 'ph_number': 543535}, 'designation': 'datascientist'}\n"
     ]
    }
   ],
   "source": [
    "query1 = {\"name\": \"Syed\"}\n",
    "\n",
    "results = collection.find(query1)\n",
    "for data in results:\n",
    "    print(data)"
   ]
  },
  {
   "cell_type": "markdown",
   "metadata": {},
   "source": [
    "### Update Records - Update\n"
   ]
  },
  {
   "cell_type": "markdown",
   "metadata": {},
   "source": [
    "\n",
    "Update Documentation - [Documentation](https://www.mongodb.com/docs/mongodb-shell/crud/update/)<br>\n",
    "Field Update Records - [field update operators](https://www.mongodb.com/docs/manual/reference/operator/update-field/)"
   ]
  },
  {
   "cell_type": "code",
   "execution_count": 56,
   "metadata": {},
   "outputs": [
    {
     "name": "stdout",
     "output_type": "stream",
     "text": [
      "{'_id': ObjectId('634a47ced71f27b617c5f301'), 'companyName': 'valuelabs', 'name': ['Syed', 'saqlain', 123], 'record_dict': {'name': 'saqlain', 'mail_id': 'saqlain@fadfsaf.ai', 'ph_number': 543535}, 'designation': 'datascientist'}\n",
      "\n",
      "{'_id': ObjectId('634a47ced71f27b617c5f302'), 'companyName': 'amazon', 'name': ['zaid', 'ahmed', 234], 'record_dict': {'name': 'zaid', 'mail_id': 'saqlain@fadfsaf.ai', 'ph_number': 543545}, 'designation': 'software engineer'}\n",
      "\n",
      "{'_id': ObjectId('634a47ddd71f27b617c5f303'), 'companyName': 'qualcomm', 'name': 'ramesh', 'designation': 'tester'}\n",
      "\n",
      "{'_id': ObjectId('634a47ddd71f27b617c5f304'), 'companyName': 'iNeuron', 'product': 'Affordable AI', 'courseOffered': 'Deep Learning for NLP and Computer vision'}\n",
      "\n",
      "{'_id': ObjectId('634a47ddd71f27b617c5f305'), 'companyName': 'udemy', 'product': 'Master Program', 'courseOffered': 'Data Science Masters Program', 'test': 'ffsdfsffsf', 'complex': [{'name': 'sudhanshu', 'list': [554, 545, 454, 54, 5, 4]}, {'email_id': 'sudhanshu@dffsf'}, {'phone_no': 345345345353}, [4, 54, 534, 5, 45, 5, 45, 4]]}\n",
      "\n"
     ]
    }
   ],
   "source": [
    "all_record = collection.find()\n",
    "for idx, record in enumerate(all_record):\n",
    "    print(f\"{record}\\n\")"
   ]
  },
  {
   "cell_type": "code",
   "execution_count": 57,
   "metadata": {},
   "outputs": [
    {
     "name": "stdout",
     "output_type": "stream",
     "text": [
      "{'_id': ObjectId('634a47ced71f27b617c5f301'), 'companyName': 'valuelabs', 'name': ['Syed', 'saqlain', 123], 'record_dict': {'name': 'saqlain', 'mail_id': 'saqlain@fadfsaf.ai', 'ph_number': 543535}, 'designation': 'datascientist'}\n",
      "\n",
      "{'_id': ObjectId('634a47ced71f27b617c5f302'), 'companyName': 'amazon', 'name': ['zaid', 'ahmed', 234], 'record_dict': {'name': 'zaid', 'mail_id': 'saqlain@fadfsaf.ai', 'ph_number': 543545}, 'designation': 'software engineer'}\n",
      "\n",
      "{'_id': ObjectId('634a47ddd71f27b617c5f303'), 'companyName': 'qualcomm', 'name': 'ramesh', 'designation': 'tester'}\n",
      "\n",
      "{'_id': ObjectId('634a47ddd71f27b617c5f304'), 'companyName': 'iNeuron', 'product': 'Affordable AI', 'courseOffered': 'Full Stack Data Scientist'}\n",
      "\n",
      "{'_id': ObjectId('634a47ddd71f27b617c5f305'), 'companyName': 'udemy', 'product': 'Master Program', 'courseOffered': 'Data Science Masters Program', 'test': 'ffsdfsffsf', 'complex': [{'name': 'sudhanshu', 'list': [554, 545, 454, 54, 5, 4]}, {'email_id': 'sudhanshu@dffsf'}, {'phone_no': 345345345353}, [4, 54, 534, 5, 45, 5, 45, 4]]}\n",
      "\n"
     ]
    }
   ],
   "source": [
    "present_data = {'courseOffered': 'Deep Learning for NLP and Computer vision'}\n",
    "new_data = {\"$set\":{'courseOffered': 'Full Stack Data Scientist'}}\n",
    "\n",
    "collection.update_many(present_data,new_data)\n",
    "all_record = collection.find()\n",
    "\n",
    "for idx, record in enumerate(all_record):\n",
    "    print(f\"{record}\\n\")"
   ]
  },
  {
   "cell_type": "markdown",
   "metadata": {},
   "source": [
    "### Delete The records - Delete"
   ]
  },
  {
   "cell_type": "code",
   "execution_count": 58,
   "metadata": {},
   "outputs": [
    {
     "data": {
      "text/plain": [
       "<pymongo.results.DeleteResult at 0x2b4af41f5b0>"
      ]
     },
     "execution_count": 58,
     "metadata": {},
     "output_type": "execute_result"
    }
   ],
   "source": [
    "query_to_delete = {\"companyName\": \"udemy\"}\n",
    "\n",
    "collection.delete_one(query_to_delete)"
   ]
  },
  {
   "cell_type": "code",
   "execution_count": 60,
   "metadata": {},
   "outputs": [
    {
     "name": "stdout",
     "output_type": "stream",
     "text": [
      "{'_id': ObjectId('634a47ced71f27b617c5f301'), 'companyName': 'valuelabs', 'name': ['Syed', 'saqlain', 123], 'record_dict': {'name': 'saqlain', 'mail_id': 'saqlain@fadfsaf.ai', 'ph_number': 543535}, 'designation': 'datascientist'}\n",
      "\n",
      "{'_id': ObjectId('634a47ced71f27b617c5f302'), 'companyName': 'amazon', 'name': ['zaid', 'ahmed', 234], 'record_dict': {'name': 'zaid', 'mail_id': 'saqlain@fadfsaf.ai', 'ph_number': 543545}, 'designation': 'software engineer'}\n",
      "\n",
      "{'_id': ObjectId('634a47ddd71f27b617c5f303'), 'companyName': 'qualcomm', 'name': 'ramesh', 'designation': 'tester'}\n",
      "\n",
      "{'_id': ObjectId('634a47ddd71f27b617c5f304'), 'companyName': 'iNeuron', 'product': 'Something', 'courseOffered': 'Director', 'name': 'ramesh'}\n",
      "\n",
      "{'_id': ObjectId('634a4e56b5deceb06d2424f0'), 'companyName': 'qualcomm', 'name': 'ramesh', 'designation': 'tester'}\n",
      "\n",
      "{'_id': ObjectId('634a4e74b5deceb06d2424f2'), 'companyName': 'qualcomm', 'name': 'ramesh', 'designation': 'tester'}\n",
      "\n"
     ]
    }
   ],
   "source": [
    "all_record = collection.find()\n",
    "\n",
    "for idx, record in enumerate(all_record):\n",
    "    print(f\"{record}\\n\")"
   ]
  },
  {
   "cell_type": "code",
   "execution_count": 61,
   "metadata": {},
   "outputs": [],
   "source": [
    "multi_query_to_delete = {\"name\": \"ramesh\"}\n",
    "\n",
    "collection.delete_many(multi_query_to_delete)\n",
    "\n"
   ]
  },
  {
   "cell_type": "code",
   "execution_count": 62,
   "metadata": {},
   "outputs": [
    {
     "name": "stdout",
     "output_type": "stream",
     "text": [
      "{'_id': ObjectId('634a47ced71f27b617c5f301'), 'companyName': 'valuelabs', 'name': ['Syed', 'saqlain', 123], 'record_dict': {'name': 'saqlain', 'mail_id': 'saqlain@fadfsaf.ai', 'ph_number': 543535}, 'designation': 'datascientist'}\n",
      "\n",
      "{'_id': ObjectId('634a47ced71f27b617c5f302'), 'companyName': 'amazon', 'name': ['zaid', 'ahmed', 234], 'record_dict': {'name': 'zaid', 'mail_id': 'saqlain@fadfsaf.ai', 'ph_number': 543545}, 'designation': 'software engineer'}\n",
      "\n"
     ]
    }
   ],
   "source": [
    "for idx, record in enumerate(collection.find()):\n",
    "    print(f\"{record}\\n\")"
   ]
  },
  {
   "cell_type": "markdown",
   "metadata": {},
   "source": [
    "### Delete Collection"
   ]
  },
  {
   "cell_type": "code",
   "execution_count": 63,
   "metadata": {},
   "outputs": [],
   "source": [
    "collection.drop()"
   ]
  },
  {
   "cell_type": "markdown",
   "metadata": {},
   "source": [
    "> ![Dropped Collection](practical_images\\drop_collection.jpg)"
   ]
  },
  {
   "cell_type": "markdown",
   "metadata": {},
   "source": [
    "### Deleting Database"
   ]
  },
  {
   "cell_type": "code",
   "execution_count": 67,
   "metadata": {},
   "outputs": [
    {
     "name": "stdout",
     "output_type": "stream",
     "text": [
      "List of databases before deletion\n",
      "--------------------------\n",
      "admin\n",
      "config\n",
      "database_demo\n",
      "local\n",
      "\n",
      "List of databases after deletion\n",
      "--------------------------\n",
      "admin\n",
      "config\n",
      "local\n"
     ]
    }
   ],
   "source": [
    "print(\"List of databases before deletion\\n--------------------------\")\n",
    "for x in client.list_database_names():\n",
    "  print(x)\n",
    "  \n",
    "#delete database named 'organisation'\n",
    "client.drop_database('database_demo')\n",
    "\n",
    "print(\"\\nList of databases after deletion\\n--------------------------\")\n",
    "for x in client.list_database_names():\n",
    "  print(x)"
   ]
  }
 ],
 "metadata": {
  "kernelspec": {
   "display_name": "Python 3 (ipykernel)",
   "language": "python",
   "name": "python3"
  },
  "language_info": {
   "codemirror_mode": {
    "name": "ipython",
    "version": 3
   },
   "file_extension": ".py",
   "mimetype": "text/x-python",
   "name": "python",
   "nbconvert_exporter": "python",
   "pygments_lexer": "ipython3",
   "version": "3.9.12"
  },
  "vscode": {
   "interpreter": {
    "hash": "3bf16a4aa55e0067088b3acfa39ea82400c7b694a19055a86b3e01a0beb8a371"
   }
  }
 },
 "nbformat": 4,
 "nbformat_minor": 2
}
